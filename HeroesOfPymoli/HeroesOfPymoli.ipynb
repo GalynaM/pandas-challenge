{
 "cells": [
  {
   "cell_type": "code",
   "execution_count": 195,
   "metadata": {},
   "outputs": [],
   "source": [
    "import pandas as pd"
   ]
  },
  {
   "cell_type": "code",
   "execution_count": 196,
   "metadata": {},
   "outputs": [
    {
     "name": "stdout",
     "output_type": "stream",
     "text": [
      "<_io.TextIOWrapper name='Resources/purchase_data.csv' mode='r' encoding='UTF-8'>\n"
     ]
    }
   ],
   "source": [
    "resource_file_path = \"Resources/purchase_data.csv\"\n",
    "# Check the encoding\n",
    "with open(resource_file_path) as f:\n",
    "    print(f)"
   ]
  },
  {
   "cell_type": "code",
   "execution_count": 265,
   "metadata": {},
   "outputs": [
    {
     "name": "stdout",
     "output_type": "stream",
     "text": [
      "     Purchase ID            SN  Age Gender  Item ID          Item Name  Price\n",
      "467          467  Adairialis76   16   Male      123  Twilight's Carver   2.28\n"
     ]
    },
    {
     "data": {
      "text/html": [
       "<div>\n",
       "<style scoped>\n",
       "    .dataframe tbody tr th:only-of-type {\n",
       "        vertical-align: middle;\n",
       "    }\n",
       "\n",
       "    .dataframe tbody tr th {\n",
       "        vertical-align: top;\n",
       "    }\n",
       "\n",
       "    .dataframe thead th {\n",
       "        text-align: right;\n",
       "    }\n",
       "</style>\n",
       "<table border=\"1\" class=\"dataframe\">\n",
       "  <thead>\n",
       "    <tr style=\"text-align: right;\">\n",
       "      <th></th>\n",
       "      <th>Purchase ID</th>\n",
       "      <th>SN</th>\n",
       "      <th>Age</th>\n",
       "      <th>Gender</th>\n",
       "      <th>Item ID</th>\n",
       "      <th>Item Name</th>\n",
       "      <th>Price</th>\n",
       "    </tr>\n",
       "  </thead>\n",
       "  <tbody>\n",
       "    <tr>\n",
       "      <th>0</th>\n",
       "      <td>0</td>\n",
       "      <td>Lisim78</td>\n",
       "      <td>20</td>\n",
       "      <td>Male</td>\n",
       "      <td>108</td>\n",
       "      <td>Extraction, Quickblade Of Trembling Hands</td>\n",
       "      <td>3.53</td>\n",
       "    </tr>\n",
       "    <tr>\n",
       "      <th>1</th>\n",
       "      <td>1</td>\n",
       "      <td>Lisovynya38</td>\n",
       "      <td>40</td>\n",
       "      <td>Male</td>\n",
       "      <td>143</td>\n",
       "      <td>Frenzied Scimitar</td>\n",
       "      <td>1.56</td>\n",
       "    </tr>\n",
       "    <tr>\n",
       "      <th>2</th>\n",
       "      <td>2</td>\n",
       "      <td>Ithergue48</td>\n",
       "      <td>24</td>\n",
       "      <td>Male</td>\n",
       "      <td>92</td>\n",
       "      <td>Final Critic</td>\n",
       "      <td>4.88</td>\n",
       "    </tr>\n",
       "    <tr>\n",
       "      <th>3</th>\n",
       "      <td>3</td>\n",
       "      <td>Chamassasya86</td>\n",
       "      <td>24</td>\n",
       "      <td>Male</td>\n",
       "      <td>100</td>\n",
       "      <td>Blindscythe</td>\n",
       "      <td>3.27</td>\n",
       "    </tr>\n",
       "    <tr>\n",
       "      <th>4</th>\n",
       "      <td>4</td>\n",
       "      <td>Iskosia90</td>\n",
       "      <td>23</td>\n",
       "      <td>Male</td>\n",
       "      <td>131</td>\n",
       "      <td>Fury</td>\n",
       "      <td>1.44</td>\n",
       "    </tr>\n",
       "  </tbody>\n",
       "</table>\n",
       "</div>"
      ],
      "text/plain": [
       "   Purchase ID             SN  Age Gender  Item ID  \\\n",
       "0            0        Lisim78   20   Male      108   \n",
       "1            1    Lisovynya38   40   Male      143   \n",
       "2            2     Ithergue48   24   Male       92   \n",
       "3            3  Chamassasya86   24   Male      100   \n",
       "4            4      Iskosia90   23   Male      131   \n",
       "\n",
       "                                   Item Name  Price  \n",
       "0  Extraction, Quickblade Of Trembling Hands   3.53  \n",
       "1                          Frenzied Scimitar   1.56  \n",
       "2                               Final Critic   4.88  \n",
       "3                                Blindscythe   3.27  \n",
       "4                                       Fury   1.44  "
      ]
     },
     "execution_count": 265,
     "metadata": {},
     "output_type": "execute_result"
    }
   ],
   "source": [
    "df = pd.read_csv(resource_file_path)\n",
    "print(df.loc[df[\"SN\"] == \"Adairialis76\"])\n",
    "df.head()"
   ]
  },
  {
   "cell_type": "code",
   "execution_count": 282,
   "metadata": {},
   "outputs": [
    {
     "data": {
      "text/plain": [
       "Purchase ID    780\n",
       "SN             780\n",
       "Age            780\n",
       "Gender         780\n",
       "Item ID        780\n",
       "Item Name      780\n",
       "Price          780\n",
       "dtype: int64"
      ]
     },
     "execution_count": 282,
     "metadata": {},
     "output_type": "execute_result"
    }
   ],
   "source": [
    "#Check if data needs to be cleaned\n",
    "df.count()"
   ]
  },
  {
   "cell_type": "code",
   "execution_count": null,
   "metadata": {},
   "outputs": [],
   "source": [
    "# Count total number of players\n",
    "\n",
    "grouped_by_players = df.groupby(\"SN\")\n",
    "players_number = len(grouped_by_players)\n",
    "print(f\"Total number of players: {players_number}\")"
   ]
  },
  {
   "cell_type": "code",
   "execution_count": 250,
   "metadata": {},
   "outputs": [
    {
     "name": "stdout",
     "output_type": "stream",
     "text": [
      "Number of Unique Items: 179\n"
     ]
    },
    {
     "data": {
      "text/html": [
       "<div>\n",
       "<style scoped>\n",
       "    .dataframe tbody tr th:only-of-type {\n",
       "        vertical-align: middle;\n",
       "    }\n",
       "\n",
       "    .dataframe tbody tr th {\n",
       "        vertical-align: top;\n",
       "    }\n",
       "\n",
       "    .dataframe thead th {\n",
       "        text-align: right;\n",
       "    }\n",
       "</style>\n",
       "<table border=\"1\" class=\"dataframe\">\n",
       "  <thead>\n",
       "    <tr style=\"text-align: right;\">\n",
       "      <th></th>\n",
       "      <th>Purchase ID</th>\n",
       "    </tr>\n",
       "    <tr>\n",
       "      <th>Item Name</th>\n",
       "      <th></th>\n",
       "    </tr>\n",
       "  </thead>\n",
       "  <tbody>\n",
       "    <tr>\n",
       "      <th>Abyssal Shard</th>\n",
       "      <td>5</td>\n",
       "    </tr>\n",
       "    <tr>\n",
       "      <th>Aetherius, Boon of the Blessed</th>\n",
       "      <td>5</td>\n",
       "    </tr>\n",
       "    <tr>\n",
       "      <th>Agatha</th>\n",
       "      <td>6</td>\n",
       "    </tr>\n",
       "    <tr>\n",
       "      <th>Alpha</th>\n",
       "      <td>3</td>\n",
       "    </tr>\n",
       "    <tr>\n",
       "      <th>Alpha, Oath of Zeal</th>\n",
       "      <td>3</td>\n",
       "    </tr>\n",
       "    <tr>\n",
       "      <th>...</th>\n",
       "      <td>...</td>\n",
       "    </tr>\n",
       "    <tr>\n",
       "      <th>Wolf</th>\n",
       "      <td>8</td>\n",
       "    </tr>\n",
       "    <tr>\n",
       "      <th>Wolf, Promise of the Moonwalker</th>\n",
       "      <td>6</td>\n",
       "    </tr>\n",
       "    <tr>\n",
       "      <th>Worldbreaker</th>\n",
       "      <td>4</td>\n",
       "    </tr>\n",
       "    <tr>\n",
       "      <th>Yearning Crusher</th>\n",
       "      <td>3</td>\n",
       "    </tr>\n",
       "    <tr>\n",
       "      <th>Yearning Mageblade</th>\n",
       "      <td>5</td>\n",
       "    </tr>\n",
       "  </tbody>\n",
       "</table>\n",
       "<p>179 rows × 1 columns</p>\n",
       "</div>"
      ],
      "text/plain": [
       "                                 Purchase ID\n",
       "Item Name                                   \n",
       "Abyssal Shard                              5\n",
       "Aetherius, Boon of the Blessed             5\n",
       "Agatha                                     6\n",
       "Alpha                                      3\n",
       "Alpha, Oath of Zeal                        3\n",
       "...                                      ...\n",
       "Wolf                                       8\n",
       "Wolf, Promise of the Moonwalker            6\n",
       "Worldbreaker                               4\n",
       "Yearning Crusher                           3\n",
       "Yearning Mageblade                         5\n",
       "\n",
       "[179 rows x 1 columns]"
      ]
     },
     "execution_count": 250,
     "metadata": {},
     "output_type": "execute_result"
    }
   ],
   "source": [
    "### Purchasing Analysis (Total)\n",
    "# * Number of Unique Items\n",
    "unique_items = df[\"Item Name\"].unique()\n",
    "unique_items_number = len(unique_items)\n",
    "print(f\"Number of Unique Items: {unique_items_number}\")"
   ]
  },
  {
   "cell_type": "code",
   "execution_count": 251,
   "metadata": {},
   "outputs": [
    {
     "name": "stdout",
     "output_type": "stream",
     "text": [
      "Average Purchase Price: $3.05\n",
      "Total Number of Purchases: 780\n",
      "Total_revenue: $2379.77\n"
     ]
    }
   ],
   "source": [
    "# * Average Purchase Price\n",
    "average_purchase_price = round(df[\"Price\"].mean(),2)\n",
    "print(f\"Average Purchase Price: ${average_purchase_price}\")\n",
    "\n",
    "# * Total Number of Purchases\n",
    "total_number_purchases = len(df[\"Purchase ID\"])\n",
    "print(f\"Total Number of Purchases: {total_number_purchases}\")\n",
    "\n",
    "# * Total Revenue\n",
    "total_revenue = df[\"Price\"].sum()\n",
    "print(f\"Total_revenue: ${total_revenue}\")\n"
   ]
  },
  {
   "cell_type": "code",
   "execution_count": 315,
   "metadata": {},
   "outputs": [
    {
     "name": "stdout",
     "output_type": "stream",
     "text": [
      "Percentage and Count of Male Players: 84.03% (484)\n",
      "Percentage and Count of Female Players: 14.06% (81)\n",
      "Percentage and Count of Non-Disclosed gender Players: 1.91% (11)\n"
     ]
    },
    {
     "data": {
      "text/plain": [
       "11"
      ]
     },
     "execution_count": 315,
     "metadata": {},
     "output_type": "execute_result"
    }
   ],
   "source": [
    "### Gender Demographics\n",
    "\n",
    "# Create function whith argument that should specify gender from Capital letter\n",
    "def print_count_players_by_gender(gender):\n",
    "    if gender in [\"Female\", \"Male\"]:\n",
    "        gender_df = df.loc[df['Gender'] == gender]\n",
    "    else: gender_df = df.loc[(df['Gender'] != \"Female\")&(df['Gender'] != \"Male\")\n",
    "]\n",
    "    gender_players_count = len(gender_df.groupby(\"SN\"))\n",
    "    gender_players_percentage = round(gender_players_count/players_number*100, 2)\n",
    "    print(f\"Percentage and Count of {gender} Players: {gender_players_percentage}% ({gender_players_count})\")\n",
    "\n",
    "def count_players_by_gender(gender):\n",
    "    if gender in [\"Female\", \"Male\"]:\n",
    "        gender_df = df.loc[df['Gender'] == gender]\n",
    "    else: gender_df = df.loc[(df['Gender'] != \"Female\")&(df['Gender'] != \"Male\")\n",
    "]\n",
    "    gender_players_count = len(gender_df.groupby(\"SN\"))\n",
    "    gender_players_percentage = round(gender_players_count/players_number*100, 2)\n",
    "    return gender_players_count\n",
    "\n",
    "# Call the function with different parameters\n",
    "# * Percentage and Count of Male Players\n",
    "print_count_players_by_gender(\"Male\")\n",
    "\n",
    "# * Percentage and Count of Female Players\n",
    "print_count_players_by_gender(\"Female\")\n",
    "\n",
    "# * Percentage and Count of Other / Non-Disclosed\n",
    "print_count_players_by_gender(\"Non-Disclosed gender\")\n"
   ]
  },
  {
   "cell_type": "code",
   "execution_count": 328,
   "metadata": {},
   "outputs": [
    {
     "name": "stdout",
     "output_type": "stream",
     "text": [
      "\n",
      "Purchase Count By Gender:\n",
      "Male: 652\n",
      "Female: 113\n",
      "Non-Disclosed Gender: 15\n",
      "\n",
      "Average Purchase Price By Gender:\n",
      "Male: 4.07\n",
      "Female: 4.47\n",
      "Non-Disclosed Gender: 4.56\n",
      "\n",
      "Total Purchase Value:                          Price\n",
      "Gender                        \n",
      "Female                  361.94\n",
      "Male                   1967.64\n",
      "Other / Non-Disclosed    50.19\n"
     ]
    },
    {
     "data": {
      "text/html": [
       "<div>\n",
       "<style scoped>\n",
       "    .dataframe tbody tr th:only-of-type {\n",
       "        vertical-align: middle;\n",
       "    }\n",
       "\n",
       "    .dataframe tbody tr th {\n",
       "        vertical-align: top;\n",
       "    }\n",
       "\n",
       "    .dataframe thead th {\n",
       "        text-align: right;\n",
       "    }\n",
       "</style>\n",
       "<table border=\"1\" class=\"dataframe\">\n",
       "  <thead>\n",
       "    <tr style=\"text-align: right;\">\n",
       "      <th></th>\n",
       "      <th></th>\n",
       "      <th>Purchase ID</th>\n",
       "    </tr>\n",
       "    <tr>\n",
       "      <th>Gender</th>\n",
       "      <th>SN</th>\n",
       "      <th></th>\n",
       "    </tr>\n",
       "  </thead>\n",
       "  <tbody>\n",
       "    <tr>\n",
       "      <th rowspan=\"5\" valign=\"top\">Female</th>\n",
       "      <th>Adastirin33</th>\n",
       "      <td>1</td>\n",
       "    </tr>\n",
       "    <tr>\n",
       "      <th>Aerithllora36</th>\n",
       "      <td>2</td>\n",
       "    </tr>\n",
       "    <tr>\n",
       "      <th>Aethedru70</th>\n",
       "      <td>1</td>\n",
       "    </tr>\n",
       "    <tr>\n",
       "      <th>Aidain51</th>\n",
       "      <td>1</td>\n",
       "    </tr>\n",
       "    <tr>\n",
       "      <th>Aiduesu86</th>\n",
       "      <td>1</td>\n",
       "    </tr>\n",
       "    <tr>\n",
       "      <th>...</th>\n",
       "      <th>...</th>\n",
       "      <td>...</td>\n",
       "    </tr>\n",
       "    <tr>\n",
       "      <th rowspan=\"5\" valign=\"top\">Other / Non-Disclosed</th>\n",
       "      <th>Lirtim36</th>\n",
       "      <td>1</td>\n",
       "    </tr>\n",
       "    <tr>\n",
       "      <th>Maluncil97</th>\n",
       "      <td>2</td>\n",
       "    </tr>\n",
       "    <tr>\n",
       "      <th>Rairith81</th>\n",
       "      <td>1</td>\n",
       "    </tr>\n",
       "    <tr>\n",
       "      <th>Siarithria38</th>\n",
       "      <td>2</td>\n",
       "    </tr>\n",
       "    <tr>\n",
       "      <th>Sundim98</th>\n",
       "      <td>1</td>\n",
       "    </tr>\n",
       "  </tbody>\n",
       "</table>\n",
       "<p>576 rows × 1 columns</p>\n",
       "</div>"
      ],
      "text/plain": [
       "                                     Purchase ID\n",
       "Gender                SN                        \n",
       "Female                Adastirin33              1\n",
       "                      Aerithllora36            2\n",
       "                      Aethedru70               1\n",
       "                      Aidain51                 1\n",
       "                      Aiduesu86                1\n",
       "...                                          ...\n",
       "Other / Non-Disclosed Lirtim36                 1\n",
       "                      Maluncil97               2\n",
       "                      Rairith81                1\n",
       "                      Siarithria38             2\n",
       "                      Sundim98                 1\n",
       "\n",
       "[576 rows x 1 columns]"
      ]
     },
     "execution_count": 328,
     "metadata": {},
     "output_type": "execute_result"
    }
   ],
   "source": [
    "### Purchasing Analysis (Gender)\n",
    "# * The below each broken by gender\n",
    "#   * Purchase Count\n",
    "purchase_count_by_gender = df[[\"Gender\", \"Purchase ID\"]].groupby([\"Gender\"]).count()\n",
    "\n",
    "male_purchases = purchase_count_by_gender['Purchase ID'][1]\n",
    "female_purchases = purchase_count_by_gender['Purchase ID'][0]\n",
    "otherGender_purchases = purchase_count_by_gender['Purchase ID'][2]\n",
    "\n",
    "print(f\"\\nPurchase Count By Gender:\\nMale: {male_purchases}\\nFemale: {female_purchases}\\nNon-Disclosed Gender: {otherGender_purchases}\")\n",
    "\n",
    "#   * Average Purchase Price\n",
    "purchase_price_by_gender = df[[\"Gender\", \"Price\"]].groupby([\"Gender\"]).sum()\n",
    "\n",
    "male_average_purchase = round(purchase_price_by_gender['Price'][1]/count_players_by_gender(\"Male\"),2)\n",
    "female_average_purchase = round(purchase_price_by_gender['Price'][0]/count_players_by_gender(\"Female\"),2)\n",
    "otherGender_average_purchase = round(purchase_price_by_gender['Price'][2]/count_players_by_gender(\"Other\"),2)\n",
    "\n",
    "print(f\"\\nAverage Purchase Price By Gender:\\nMale: {male_average_purchase}\\nFemale: {female_average_purchase}\\nNon-Disclosed Gender: {otherGender_average_purchase}\")\n",
    "\n",
    "#   * Total Purchase Value\n",
    "print(f\"\\nTotal Purchase Value: {purchase_price_by_gender}\")\n",
    "\n",
    "#   * Average Purchase Total per Person by Gender\n",
    "purchase_per_person = df[[\"Gender\", \"SN\", \"Purchase ID\"]].groupby([\"Gender\", \"SN\"]).count()\n",
    "# purchase_per_person = purchase_per_person[\"Purchase ID\"].mean()\n",
    "purchase_per_person"
   ]
  },
  {
   "cell_type": "code",
   "execution_count": null,
   "metadata": {},
   "outputs": [],
   "source": []
  }
 ],
 "metadata": {
  "kernelspec": {
   "display_name": "Python 3",
   "language": "python",
   "name": "python3"
  },
  "language_info": {
   "codemirror_mode": {
    "name": "ipython",
    "version": 3
   },
   "file_extension": ".py",
   "mimetype": "text/x-python",
   "name": "python",
   "nbconvert_exporter": "python",
   "pygments_lexer": "ipython3",
   "version": "3.8.5"
  }
 },
 "nbformat": 4,
 "nbformat_minor": 4
}
