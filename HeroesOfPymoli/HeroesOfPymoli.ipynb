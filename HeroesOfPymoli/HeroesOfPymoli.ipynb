{
 "cells": [
  {
   "cell_type": "code",
   "execution_count": 2,
   "metadata": {},
   "outputs": [],
   "source": [
    "import pandas as pd"
   ]
  },
  {
   "cell_type": "code",
   "execution_count": 3,
   "metadata": {},
   "outputs": [
    {
     "name": "stdout",
     "output_type": "stream",
     "text": [
      "<_io.TextIOWrapper name='Resources/purchase_data.csv' mode='r' encoding='UTF-8'>\n"
     ]
    }
   ],
   "source": [
    "resource_file_path = \"Resources/purchase_data.csv\"\n",
    "# Check the encoding\n",
    "with open(resource_file_path) as f:\n",
    "    print(f)"
   ]
  },
  {
   "cell_type": "code",
   "execution_count": 4,
   "metadata": {},
   "outputs": [
    {
     "name": "stdout",
     "output_type": "stream",
     "text": [
      "     Purchase ID            SN  Age Gender  Item ID          Item Name  Price\n",
      "467          467  Adairialis76   16   Male      123  Twilight's Carver   2.28\n"
     ]
    },
    {
     "data": {
      "text/html": [
       "<div>\n",
       "<style scoped>\n",
       "    .dataframe tbody tr th:only-of-type {\n",
       "        vertical-align: middle;\n",
       "    }\n",
       "\n",
       "    .dataframe tbody tr th {\n",
       "        vertical-align: top;\n",
       "    }\n",
       "\n",
       "    .dataframe thead th {\n",
       "        text-align: right;\n",
       "    }\n",
       "</style>\n",
       "<table border=\"1\" class=\"dataframe\">\n",
       "  <thead>\n",
       "    <tr style=\"text-align: right;\">\n",
       "      <th></th>\n",
       "      <th>Purchase ID</th>\n",
       "      <th>SN</th>\n",
       "      <th>Age</th>\n",
       "      <th>Gender</th>\n",
       "      <th>Item ID</th>\n",
       "      <th>Item Name</th>\n",
       "      <th>Price</th>\n",
       "    </tr>\n",
       "  </thead>\n",
       "  <tbody>\n",
       "    <tr>\n",
       "      <th>0</th>\n",
       "      <td>0</td>\n",
       "      <td>Lisim78</td>\n",
       "      <td>20</td>\n",
       "      <td>Male</td>\n",
       "      <td>108</td>\n",
       "      <td>Extraction, Quickblade Of Trembling Hands</td>\n",
       "      <td>3.53</td>\n",
       "    </tr>\n",
       "    <tr>\n",
       "      <th>1</th>\n",
       "      <td>1</td>\n",
       "      <td>Lisovynya38</td>\n",
       "      <td>40</td>\n",
       "      <td>Male</td>\n",
       "      <td>143</td>\n",
       "      <td>Frenzied Scimitar</td>\n",
       "      <td>1.56</td>\n",
       "    </tr>\n",
       "    <tr>\n",
       "      <th>2</th>\n",
       "      <td>2</td>\n",
       "      <td>Ithergue48</td>\n",
       "      <td>24</td>\n",
       "      <td>Male</td>\n",
       "      <td>92</td>\n",
       "      <td>Final Critic</td>\n",
       "      <td>4.88</td>\n",
       "    </tr>\n",
       "    <tr>\n",
       "      <th>3</th>\n",
       "      <td>3</td>\n",
       "      <td>Chamassasya86</td>\n",
       "      <td>24</td>\n",
       "      <td>Male</td>\n",
       "      <td>100</td>\n",
       "      <td>Blindscythe</td>\n",
       "      <td>3.27</td>\n",
       "    </tr>\n",
       "    <tr>\n",
       "      <th>4</th>\n",
       "      <td>4</td>\n",
       "      <td>Iskosia90</td>\n",
       "      <td>23</td>\n",
       "      <td>Male</td>\n",
       "      <td>131</td>\n",
       "      <td>Fury</td>\n",
       "      <td>1.44</td>\n",
       "    </tr>\n",
       "  </tbody>\n",
       "</table>\n",
       "</div>"
      ],
      "text/plain": [
       "   Purchase ID             SN  Age Gender  Item ID  \\\n",
       "0            0        Lisim78   20   Male      108   \n",
       "1            1    Lisovynya38   40   Male      143   \n",
       "2            2     Ithergue48   24   Male       92   \n",
       "3            3  Chamassasya86   24   Male      100   \n",
       "4            4      Iskosia90   23   Male      131   \n",
       "\n",
       "                                   Item Name  Price  \n",
       "0  Extraction, Quickblade Of Trembling Hands   3.53  \n",
       "1                          Frenzied Scimitar   1.56  \n",
       "2                               Final Critic   4.88  \n",
       "3                                Blindscythe   3.27  \n",
       "4                                       Fury   1.44  "
      ]
     },
     "execution_count": 4,
     "metadata": {},
     "output_type": "execute_result"
    }
   ],
   "source": [
    "df = pd.read_csv(resource_file_path)\n",
    "print(df.loc[df[\"SN\"] == \"Adairialis76\"])\n",
    "df.head()"
   ]
  },
  {
   "cell_type": "code",
   "execution_count": 5,
   "metadata": {},
   "outputs": [
    {
     "data": {
      "text/plain": [
       "Purchase ID    780\n",
       "SN             780\n",
       "Age            780\n",
       "Gender         780\n",
       "Item ID        780\n",
       "Item Name      780\n",
       "Price          780\n",
       "dtype: int64"
      ]
     },
     "execution_count": 5,
     "metadata": {},
     "output_type": "execute_result"
    }
   ],
   "source": [
    "#Check if data needs to be cleaned\n",
    "df.count()"
   ]
  },
  {
   "cell_type": "code",
   "execution_count": 6,
   "metadata": {},
   "outputs": [
    {
     "name": "stdout",
     "output_type": "stream",
     "text": [
      "Total number of players: 576\n"
     ]
    }
   ],
   "source": [
    "# Count total number of players\n",
    "\n",
    "grouped_by_players = df.groupby(\"SN\")\n",
    "players_number = len(grouped_by_players)\n",
    "print(f\"Total number of players: {players_number}\")"
   ]
  },
  {
   "cell_type": "code",
   "execution_count": 7,
   "metadata": {},
   "outputs": [
    {
     "name": "stdout",
     "output_type": "stream",
     "text": [
      "Number of Unique Items: 179\n"
     ]
    }
   ],
   "source": [
    "### Purchasing Analysis (Total)\n",
    "# * Number of Unique Items\n",
    "unique_items = df[\"Item Name\"].unique()\n",
    "unique_items_number = len(unique_items)\n",
    "print(f\"Number of Unique Items: {unique_items_number}\")"
   ]
  },
  {
   "cell_type": "code",
   "execution_count": 8,
   "metadata": {},
   "outputs": [
    {
     "name": "stdout",
     "output_type": "stream",
     "text": [
      "Average Purchase Price: $3.05\n",
      "Total Number of Purchases: 780\n",
      "Total_revenue: $2379.77\n"
     ]
    }
   ],
   "source": [
    "# * Average Purchase Price\n",
    "average_purchase_price = round(df[\"Price\"].mean(),2)\n",
    "print(f\"Average Purchase Price: ${average_purchase_price}\")\n",
    "\n",
    "# * Total Number of Purchases\n",
    "total_number_purchases = len(df[\"Purchase ID\"])\n",
    "print(f\"Total Number of Purchases: {total_number_purchases}\")\n",
    "\n",
    "# * Total Revenue\n",
    "total_revenue = df[\"Price\"].sum()\n",
    "print(f\"Total_revenue: ${total_revenue}\")\n"
   ]
  },
  {
   "cell_type": "code",
   "execution_count": 9,
   "metadata": {},
   "outputs": [
    {
     "name": "stdout",
     "output_type": "stream",
     "text": [
      "Percentage and Count of Male Players: 84.03% (484)\n",
      "Percentage and Count of Female Players: 14.06% (81)\n",
      "Percentage and Count of Non-Disclosed gender Players: 1.91% (11)\n"
     ]
    }
   ],
   "source": [
    "### Gender Demographics\n",
    "\n",
    "# Create function whith argument that should specify gender from Capital letter\n",
    "def print_count_players_by_gender(gender):\n",
    "    if gender in [\"Female\", \"Male\"]:\n",
    "        gender_df = df.loc[df['Gender'] == gender]\n",
    "    else: gender_df = df.loc[(df['Gender'] != \"Female\")&(df['Gender'] != \"Male\")\n",
    "]\n",
    "    gender_players_count = len(gender_df.groupby(\"SN\"))\n",
    "    gender_players_percentage = round(gender_players_count/players_number*100, 2)\n",
    "    print(f\"Percentage and Count of {gender} Players: {gender_players_percentage}% ({gender_players_count})\")\n",
    "\n",
    "def count_players_by_gender(gender):\n",
    "    if gender in [\"Female\", \"Male\"]:\n",
    "        gender_df = df.loc[df['Gender'] == gender]\n",
    "    else: gender_df = df.loc[(df['Gender'] != \"Female\")&(df['Gender'] != \"Male\")\n",
    "]\n",
    "    gender_players_count = len(gender_df.groupby(\"SN\"))\n",
    "    gender_players_percentage = round(gender_players_count/players_number*100, 2)\n",
    "    return gender_players_count\n",
    "\n",
    "# Call the function with different parameters\n",
    "# * Percentage and Count of Male Players\n",
    "print_count_players_by_gender(\"Male\")\n",
    "\n",
    "# * Percentage and Count of Female Players\n",
    "print_count_players_by_gender(\"Female\")\n",
    "\n",
    "# * Percentage and Count of Other / Non-Disclosed\n",
    "print_count_players_by_gender(\"Non-Disclosed gender\")\n"
   ]
  },
  {
   "cell_type": "code",
   "execution_count": 42,
   "metadata": {},
   "outputs": [
    {
     "name": "stdout",
     "output_type": "stream",
     "text": [
      "\n",
      "Purchase Count By Gender:\n",
      "Male: 652\n",
      "Female: 113\n",
      "Non-Disclosed Gender: 15\n",
      "\n",
      "Average Purchase Price By Gender:\n",
      "Male: 4.07\n",
      "Female: 4.47\n",
      "Non-Disclosed Gender: 4.56\n",
      "\n",
      "Total Purchase Value:                          Price\n",
      "Gender                        \n",
      "Female                  361.94\n",
      "Male                   1967.64\n",
      "Other / Non-Disclosed    50.19\n",
      "Average Purchase Total per Person by Gender: \n",
      "                       Purchase ID\n",
      "Gender                            \n",
      "Female                        1.40\n",
      "Male                          1.35\n",
      "Other / Non-Disclosed         1.36\n"
     ]
    }
   ],
   "source": [
    "### Purchasing Analysis (Gender)\n",
    "# * The below each broken by gender\n",
    "#   * Purchase Count\n",
    "purchase_count_by_gender = df[[\"Gender\", \"Purchase ID\"]].groupby([\"Gender\"]).count()\n",
    "\n",
    "male_purchases = purchase_count_by_gender['Purchase ID'][1]\n",
    "female_purchases = purchase_count_by_gender['Purchase ID'][0]\n",
    "otherGender_purchases = purchase_count_by_gender['Purchase ID'][2]\n",
    "\n",
    "print(f\"\\nPurchase Count By Gender:\\nMale: {male_purchases}\\nFemale: {female_purchases}\\nNon-Disclosed Gender: {otherGender_purchases}\")\n",
    "\n",
    "#   * Average Purchase Price\n",
    "purchase_price_by_gender = df[[\"Gender\", \"Price\"]].groupby([\"Gender\"]).sum()\n",
    "\n",
    "male_average_purchase = round(purchase_price_by_gender['Price'][1]/count_players_by_gender(\"Male\"),2)\n",
    "female_average_purchase = round(purchase_price_by_gender['Price'][0]/count_players_by_gender(\"Female\"),2)\n",
    "otherGender_average_purchase = round(purchase_price_by_gender['Price'][2]/count_players_by_gender(\"Other\"),2)\n",
    "\n",
    "print(f\"\\nAverage Purchase Price By Gender:\\nMale: {male_average_purchase}\\nFemale: {female_average_purchase}\\nNon-Disclosed Gender: {otherGender_average_purchase}\")\n",
    "\n",
    "#   * Total Purchase Value\n",
    "print(f\"\\nTotal Purchase Value: {purchase_price_by_gender}\")\n",
    "\n",
    "#   * Average Purchase Total per Person by Gender\n",
    "# At first apply groupby by both columns - Gender and SD to find out how many purchases did each player\n",
    "purchase_per_person = df[[\"Gender\", \"SN\", \"Purchase ID\"]].groupby([\"Gender\", \"SN\"]).count()\n",
    "# print(purchase_per_person.head())\n",
    "\n",
    "# Then use group by only by gender to find the average purshase count per person by gender\n",
    "average_purchase_per_person = round(purchase_per_person.groupby(\"Gender\").mean(), 2)\n",
    "print(f\"Average Purchase Total per Person by Gender: \\n{average_purchase_per_person}\")"
   ]
  },
  {
   "cell_type": "code",
   "execution_count": 78,
   "metadata": {},
   "outputs": [
    {
     "name": "stdout",
     "output_type": "stream",
     "text": [
      "\n",
      "Purchase Count by Age Bins: \n",
      "           Purchase ID\n",
      "Age Group             \n",
      "[7-11)              39\n",
      "[11-15)             47\n",
      "[15-19)            101\n",
      "[19-23)            298\n",
      "[23-27)            150\n",
      "[27-31)             60\n",
      "[31-35)             45\n",
      "[35-39)             27\n",
      "[39-43)             10\n",
      "[43-47]              3\n",
      "\n",
      "Average Purchase Price by Age Bins: \n",
      "            Price\n",
      "Age Group       \n",
      "[7-11)      3.28\n",
      "[11-15)     2.93\n",
      "[15-19)     3.04\n",
      "[19-23)     3.03\n",
      "[23-27)     3.06\n",
      "[27-31)     2.97\n",
      "[31-35)     2.93\n",
      "[35-39)     3.54\n",
      "[39-43)     3.12\n",
      "[43-47]     2.35\n",
      "\n",
      "Total Purchase Value by Age Bins: \n",
      "             Price\n",
      "Age Group        \n",
      "[7-11)     127.75\n",
      "[11-15)    137.81\n",
      "[15-19)    307.24\n",
      "[19-23)    903.84\n",
      "[23-27)    459.54\n",
      "[27-31)    178.05\n",
      "[31-35)    131.66\n",
      "[35-39)     95.64\n",
      "[39-43)     31.18\n",
      "[43-47]      7.06\n",
      "\n",
      "Average Purchase Total per Person by Age Group: \n",
      "            Purchase ID\n",
      "Age Group             \n",
      "[7-11)            1.30\n",
      "[11-15)           1.34\n",
      "[15-19)           1.25\n",
      "[19-23)           1.42\n",
      "[23-27)           1.35\n",
      "[27-31)           1.36\n",
      "[31-35)           1.41\n",
      "[35-39)           1.29\n",
      "[39-43)           1.11\n",
      "[43-47]           1.00\n"
     ]
    }
   ],
   "source": [
    "### Age Demographics\n",
    "# * The below each broken into bins of 4 years (i.e. &lt;10, 10-14, 15-19, etc.)\n",
    "min_age = df[\"Age\"].min()\n",
    "\n",
    "max_age = df[\"Age\"].max()\n",
    "\n",
    "bins = [x for x in range(min_age, max_age+3, 4)]\n",
    "bins_labels = [\"[7-11)\", \"[11-15)\", \"[15-19)\", \"[19-23)\", \"[23-27)\",\n",
    "               \"[27-31)\", \"[31-35)\", \"[35-39)\", \"[39-43)\", \"[43-47]\"]\n",
    "\n",
    "#   * Purchase Count\n",
    "purchase_by_age_bins = df\n",
    "purchase_by_age_bins[\"Age Group\"] = pd.cut(df[\"Age\"], bins, labels = bins_labels, include_lowest = True)\n",
    "purchase_count_by_age_bins = purchase_by_age_bins[[\"Age Group\", \"Purchase ID\"]].groupby(\"Age Group\").count()\n",
    "print(f\"\\nPurchase Count by Age Bins: \\n{purchase_count_by_age_bins}\")\n",
    "\n",
    "# #   * Average Purchase Price\n",
    "purchase_price_by_age_bins = round(purchase_by_age_bins[[\"Age Group\", \"Price\"]].groupby(\"Age Group\").mean(),2)\n",
    "print(f\"\\nAverage Purchase Price by Age Bins: \\n {purchase_price_by_age_bins}\")\n",
    "\n",
    "# #   * Total Purchase Value\n",
    "purchase_total_value_by_age_bins = round(purchase_by_age_bins[[\"Age Group\", \"Price\"]].groupby(\"Age Group\").sum(),2)\n",
    "print(f\"\\nTotal Purchase Value by Age Bins: \\n {purchase_total_value_by_age_bins}\")\n",
    "\n",
    "#   * Average Purchase Total per Person by Age Group\n",
    "# As column Age Group is considered as category type, we need to get rid of the NaN values\n",
    "purchase_sn = purchase_by_age_bins[[\"Age Group\", \"SN\", \"Purchase ID\"]].groupby([\"SN\", \"Age Group\"]).count().dropna()\n",
    "purchase_total_by_age_bins = round(purchase_sn.groupby(\"Age Group\").mean(),2)\n",
    "print(f\"\\nAverage Purchase Total per Person by Age Group: \\n {purchase_total_by_age_bins}\")"
   ]
  },
  {
   "cell_type": "code",
   "execution_count": null,
   "metadata": {},
   "outputs": [],
   "source": [
    "### Top Spenders\n",
    "\n",
    "# * Identify the the top 5 spenders in the game by total purchase value, then list (in a table):\n",
    "#   * SN\n",
    "#   * Purchase Count\n",
    "#   * Average Purchase Price\n",
    "#   * Total Purchase Value"
   ]
  }
 ],
 "metadata": {
  "kernelspec": {
   "display_name": "Python 3",
   "language": "python",
   "name": "python3"
  },
  "language_info": {
   "codemirror_mode": {
    "name": "ipython",
    "version": 3
   },
   "file_extension": ".py",
   "mimetype": "text/x-python",
   "name": "python",
   "nbconvert_exporter": "python",
   "pygments_lexer": "ipython3",
   "version": "3.8.5"
  }
 },
 "nbformat": 4,
 "nbformat_minor": 4
}
